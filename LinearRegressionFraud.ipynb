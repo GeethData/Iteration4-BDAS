{
 "cells": [
  {
   "cell_type": "markdown",
   "metadata": {},
   "source": [
    "# Linear Regression Creadit Card Fraud Detection"
   ]
  },
  {
   "cell_type": "code",
   "execution_count": 1,
   "metadata": {},
   "outputs": [],
   "source": [
    "# Must be included at the beginning of each new notebook. Remember to change the app name.\n",
    "import pyspark\n",
    "from pyspark.sql import SparkSession\n",
    "spark = SparkSession.builder.appName('linear_regression_fraud').getOrCreate()\n",
    "\n",
    "# If you're getting an error with numpy, please type 'sudo pip install numpy --user' into the EC2 console.\n",
    "from pyspark.ml.regression import LinearRegression"
   ]
  },
  {
   "cell_type": "code",
   "execution_count": 2,
   "metadata": {},
   "outputs": [],
   "source": [
    "# Use Spark to read in the Ecommerce Customers csv file. You can infer csv schemas. \n",
    "data = spark.read.csv(\"E:\\INFOSYS 722\\Assignments\\Assignments\\Iter4\\Iteration4\\CleanData.csv\",inferSchema=True,header=True)"
   ]
  },
  {
   "cell_type": "code",
   "execution_count": 3,
   "metadata": {},
   "outputs": [
    {
     "name": "stdout",
     "output_type": "stream",
     "text": [
      "root\n",
      " |-- Time: double (nullable = true)\n",
      " |-- V1: double (nullable = true)\n",
      " |-- V2: double (nullable = true)\n",
      " |-- V3: double (nullable = true)\n",
      " |-- V4: double (nullable = true)\n",
      " |-- V5: double (nullable = true)\n",
      " |-- V6: double (nullable = true)\n",
      " |-- V7: double (nullable = true)\n",
      " |-- V8: double (nullable = true)\n",
      " |-- V9: double (nullable = true)\n",
      " |-- V10: double (nullable = true)\n",
      " |-- V11: double (nullable = true)\n",
      " |-- V12: double (nullable = true)\n",
      " |-- V13: double (nullable = true)\n",
      " |-- V14: double (nullable = true)\n",
      " |-- V15: double (nullable = true)\n",
      " |-- V16: double (nullable = true)\n",
      " |-- V17: double (nullable = true)\n",
      " |-- V18: double (nullable = true)\n",
      " |-- V19: double (nullable = true)\n",
      " |-- V20: double (nullable = true)\n",
      " |-- V21: double (nullable = true)\n",
      " |-- V22: double (nullable = true)\n",
      " |-- V23: double (nullable = true)\n",
      " |-- V24: double (nullable = true)\n",
      " |-- V25: double (nullable = true)\n",
      " |-- V26: double (nullable = true)\n",
      " |-- V27: double (nullable = true)\n",
      " |-- V28: double (nullable = true)\n",
      " |-- Amount: double (nullable = true)\n",
      " |-- Class: integer (nullable = true)\n",
      "\n"
     ]
    }
   ],
   "source": [
    "data.printSchema()"
   ]
  },
  {
   "cell_type": "code",
   "execution_count": 4,
   "metadata": {},
   "outputs": [
    {
     "data": {
      "text/plain": [
       "Row(Time=114781.0, V1=0.018689871, V2=0.7716607790000001, V3=-0.749187624, V4=-0.9511676490000001, V5=1.7773783890000001, V6=1.253345665, V7=0.572302829, V8=0.538009135, V9=-0.162268511, V10=-0.775618639, V11=0.980027323, V12=0.22255239899999998, V13=-0.7702471340000001, V14=-0.625276077, V15=-0.05020235, V16=-0.135271817, V17=0.7676895859999999, V18=-0.7785133000000001, V19=-0.7771844370000001, V20=-0.094226555, V21=-0.257252841, V22=-0.554723238, V23=0.10122239400000001, V24=-1.06849104, V25=-0.611554036, V26=0.22649766300000002, V27=0.262847327, V28=0.055777892, Amount=2.69, Class=0)"
      ]
     },
     "execution_count": 4,
     "metadata": {},
     "output_type": "execute_result"
    }
   ],
   "source": [
    "# Let's focus on one row to make it easier to read.\n",
    "data.head()"
   ]
  },
  {
   "cell_type": "code",
   "execution_count": 5,
   "metadata": {},
   "outputs": [
    {
     "name": "stdout",
     "output_type": "stream",
     "text": [
      "114781.0\n",
      "0.018689871\n",
      "0.7716607790000001\n",
      "-0.749187624\n",
      "-0.9511676490000001\n",
      "1.7773783890000001\n",
      "1.253345665\n",
      "0.572302829\n",
      "0.538009135\n",
      "-0.162268511\n",
      "-0.775618639\n",
      "0.980027323\n",
      "0.22255239899999998\n",
      "-0.7702471340000001\n",
      "-0.625276077\n",
      "-0.05020235\n",
      "-0.135271817\n",
      "0.7676895859999999\n",
      "-0.7785133000000001\n",
      "-0.7771844370000001\n",
      "-0.094226555\n",
      "-0.257252841\n",
      "-0.554723238\n",
      "0.10122239400000001\n",
      "-1.06849104\n",
      "-0.611554036\n",
      "0.22649766300000002\n",
      "0.262847327\n",
      "0.055777892\n",
      "2.69\n",
      "0\n"
     ]
    }
   ],
   "source": [
    "# A simple for loop allows us to make it even clearer. \n",
    "for item in data.head():\n",
    "    print(item)"
   ]
  },
  {
   "cell_type": "markdown",
   "metadata": {},
   "source": [
    "# Setting Up a DataFrame for Machine Learning (MLlib)"
   ]
  },
  {
   "cell_type": "markdown",
   "metadata": {},
   "source": [
    "We need to do a few things before Spark can accept the data for machine learning. First of all, it needs to be in the form of two columns: label and features. Unlike the documentation example, this data is messy. We'll need to combine all of the features into a single vector. VectorAssembler simplifies the process."
   ]
  },
  {
   "cell_type": "code",
   "execution_count": 6,
   "metadata": {},
   "outputs": [],
   "source": [
    "# Import VectorAssembler and Vectors\n",
    "from pyspark.ml.linalg import Vectors\n",
    "from pyspark.ml.feature import VectorAssembler"
   ]
  },
  {
   "cell_type": "code",
   "execution_count": 8,
   "metadata": {},
   "outputs": [
    {
     "name": "stdout",
     "output_type": "stream",
     "text": [
      "['Time', 'V1', 'V2', 'V3', 'V4', 'V5', 'V6', 'V7', 'V8', 'V9', 'V10', 'V11', 'V12', 'V13', 'V14', 'V15', 'V16', 'V17', 'V18', 'V19', 'V20', 'V21', 'V22', 'V23', 'V24', 'V25', 'V26', 'V27', 'V28', 'Amount', 'Class']\n"
     ]
    }
   ],
   "source": [
    "print(data.columns)"
   ]
  },
  {
   "cell_type": "code",
   "execution_count": 9,
   "metadata": {},
   "outputs": [],
   "source": [
    "# The input columns are the feature column names, and the output column is what you'd like the new column to be named.\n",
    "assembler = VectorAssembler(\n",
    "    inputCols=['Time', 'V1', 'V2', 'V3', 'V4', 'V5', 'V6', 'V7', 'V8', 'V9', 'V10', 'V11', 'V12', 'V13', 'V14', 'V15', 'V16', 'V17', 'V18', 'V19', 'V20', 'V21', 'V22', 'V23', 'V24', 'V25', 'V26', 'V27', 'V28', 'Amount'],\n",
    "    outputCol=\"features\")"
   ]
  },
  {
   "cell_type": "code",
   "execution_count": 14,
   "metadata": {},
   "outputs": [],
   "source": [
    "# Using print schema, you see that the features output column has been added. \n",
    "output = assembler.transform(data)"
   ]
  },
  {
   "cell_type": "code",
   "execution_count": 15,
   "metadata": {},
   "outputs": [
    {
     "name": "stdout",
     "output_type": "stream",
     "text": [
      "root\n",
      " |-- Time: double (nullable = true)\n",
      " |-- V1: double (nullable = true)\n",
      " |-- V2: double (nullable = true)\n",
      " |-- V3: double (nullable = true)\n",
      " |-- V4: double (nullable = true)\n",
      " |-- V5: double (nullable = true)\n",
      " |-- V6: double (nullable = true)\n",
      " |-- V7: double (nullable = true)\n",
      " |-- V8: double (nullable = true)\n",
      " |-- V9: double (nullable = true)\n",
      " |-- V10: double (nullable = true)\n",
      " |-- V11: double (nullable = true)\n",
      " |-- V12: double (nullable = true)\n",
      " |-- V13: double (nullable = true)\n",
      " |-- V14: double (nullable = true)\n",
      " |-- V15: double (nullable = true)\n",
      " |-- V16: double (nullable = true)\n",
      " |-- V17: double (nullable = true)\n",
      " |-- V18: double (nullable = true)\n",
      " |-- V19: double (nullable = true)\n",
      " |-- V20: double (nullable = true)\n",
      " |-- V21: double (nullable = true)\n",
      " |-- V22: double (nullable = true)\n",
      " |-- V23: double (nullable = true)\n",
      " |-- V24: double (nullable = true)\n",
      " |-- V25: double (nullable = true)\n",
      " |-- V26: double (nullable = true)\n",
      " |-- V27: double (nullable = true)\n",
      " |-- V28: double (nullable = true)\n",
      " |-- Amount: double (nullable = true)\n",
      " |-- Class: integer (nullable = true)\n",
      " |-- features: vector (nullable = true)\n",
      "\n"
     ]
    }
   ],
   "source": [
    "output.printSchema()"
   ]
  },
  {
   "cell_type": "code",
   "execution_count": 16,
   "metadata": {},
   "outputs": [
    {
     "data": {
      "text/plain": [
       "[Row(Time=114781.0, V1=0.018689871, V2=0.7716607790000001, V3=-0.749187624, V4=-0.9511676490000001, V5=1.7773783890000001, V6=1.253345665, V7=0.572302829, V8=0.538009135, V9=-0.162268511, V10=-0.775618639, V11=0.980027323, V12=0.22255239899999998, V13=-0.7702471340000001, V14=-0.625276077, V15=-0.05020235, V16=-0.135271817, V17=0.7676895859999999, V18=-0.7785133000000001, V19=-0.7771844370000001, V20=-0.094226555, V21=-0.257252841, V22=-0.554723238, V23=0.10122239400000001, V24=-1.06849104, V25=-0.611554036, V26=0.22649766300000002, V27=0.262847327, V28=0.055777892, Amount=2.69, Class=0, features=DenseVector([114781.0, 0.0187, 0.7717, -0.7492, -0.9512, 1.7774, 1.2533, 0.5723, 0.538, -0.1623, -0.7756, 0.98, 0.2226, -0.7702, -0.6253, -0.0502, -0.1353, 0.7677, -0.7785, -0.7772, -0.0942, -0.2573, -0.5547, 0.1012, -1.0685, -0.6116, 0.2265, 0.2628, 0.0558, 2.69]))]"
      ]
     },
     "execution_count": 16,
     "metadata": {},
     "output_type": "execute_result"
    }
   ],
   "source": [
    "# You can see that the features column is a dense vector that combines the various features as expected.\n",
    "output.head(1)"
   ]
  },
  {
   "cell_type": "code",
   "execution_count": 65,
   "metadata": {},
   "outputs": [
    {
     "name": "stdout",
     "output_type": "stream",
     "text": [
      "114781.0\n",
      "0.018689871\n",
      "0.7716607790000001\n",
      "-0.749187624\n",
      "-0.9511676490000001\n",
      "1.7773783890000001\n",
      "1.253345665\n",
      "0.572302829\n",
      "0.538009135\n",
      "-0.162268511\n",
      "-0.775618639\n",
      "0.980027323\n",
      "0.22255239899999998\n",
      "-0.7702471340000001\n",
      "-0.625276077\n",
      "-0.05020235\n",
      "-0.135271817\n",
      "0.7676895859999999\n",
      "-0.7785133000000001\n",
      "-0.7771844370000001\n",
      "-0.094226555\n",
      "-0.257252841\n",
      "-0.554723238\n",
      "0.10122239400000001\n",
      "-1.06849104\n",
      "-0.611554036\n",
      "0.22649766300000002\n",
      "0.262847327\n",
      "0.055777892\n",
      "2.69\n",
      "0\n",
      "[114781.0,0.018689871,0.7716607790000001,-0.749187624,-0.9511676490000001,1.7773783890000001,1.253345665,0.572302829,0.538009135,-0.162268511,-0.775618639,0.980027323,0.22255239899999998,-0.7702471340000001,-0.625276077,-0.05020235,-0.135271817,0.7676895859999999,-0.7785133000000001,-0.7771844370000001,-0.094226555,-0.257252841,-0.554723238,0.10122239400000001,-1.06849104,-0.611554036,0.22649766300000002,0.262847327,0.055777892,2.69,0.0]\n"
     ]
    }
   ],
   "source": [
    "for item in output.head():\n",
    "    print(item)"
   ]
  },
  {
   "cell_type": "code",
   "execution_count": 17,
   "metadata": {},
   "outputs": [
    {
     "name": "stdout",
     "output_type": "stream",
     "text": [
      "+--------------------+-----+\n",
      "|            features|Class|\n",
      "+--------------------+-----+\n",
      "|[114781.0,0.01868...|    0|\n",
      "|[48085.0,-1.17863...|    0|\n",
      "|[84380.0,1.116270...|    0|\n",
      "|[80374.0,-0.42396...|    0|\n",
      "|[68284.0,0.083971...|    0|\n",
      "|[127819.0,2.04654...|    0|\n",
      "|[80775.0,-0.66946...|    0|\n",
      "|[124360.0,1.61669...|    0|\n",
      "|[125685.0,1.94626...|    0|\n",
      "|[142746.0,1.87460...|    0|\n",
      "|[68322.0,-0.46750...|    0|\n",
      "|[74903.0,1.243635...|    0|\n",
      "|[62814.0,1.252808...|    0|\n",
      "|[834.0,0.95624797...|    0|\n",
      "|[73282.0,-0.33819...|    0|\n",
      "|[22305.0,1.041925...|    0|\n",
      "|[128772.0,1.31398...|    0|\n",
      "|[146618.0,1.95809...|    0|\n",
      "|[19912.0,1.362146...|    0|\n",
      "|[157659.0,-0.3994...|    0|\n",
      "+--------------------+-----+\n",
      "only showing top 20 rows\n",
      "\n"
     ]
    }
   ],
   "source": [
    "# Let's select two columns (the feature and predictor).\n",
    "# This is now in the appropriate format to be processed by Spark.\n",
    "final_data = output.select(\"features\", \"Class\")\n",
    "final_data.show()"
   ]
  },
  {
   "cell_type": "code",
   "execution_count": 18,
   "metadata": {},
   "outputs": [
    {
     "name": "stdout",
     "output_type": "stream",
     "text": [
      "+-----+-----+\n",
      "|Class|count|\n",
      "+-----+-----+\n",
      "|    1|  492|\n",
      "|    0|  492|\n",
      "+-----+-----+\n",
      "\n"
     ]
    }
   ],
   "source": [
    "final_data.groupBy('Class').count().show()"
   ]
  },
  {
   "cell_type": "code",
   "execution_count": 21,
   "metadata": {},
   "outputs": [],
   "source": [
    "# Let's do a randomised 70/30 split. \n",
    "# Remember, you can use other splits depending on how easy/difficult it is to train your model.\n",
    "train_data, test_data = final_data.randomSplit([0.8, 0.2])"
   ]
  },
  {
   "cell_type": "code",
   "execution_count": 20,
   "metadata": {},
   "outputs": [
    {
     "name": "stdout",
     "output_type": "stream",
     "text": [
      "+--------------------+-----+\n",
      "|            features|Class|\n",
      "+--------------------+-----+\n",
      "|[406.0,-2.3122265...|    1|\n",
      "|[413.0,1.14659355...|    0|\n",
      "|[472.0,-3.0435406...|    1|\n",
      "|[925.0,1.00043338...|    0|\n",
      "|[951.0,-1.2835989...|    0|\n",
      "|[957.0,-0.9225089...|    0|\n",
      "|[1658.0,-0.395424...|    0|\n",
      "|[2923.0,-0.145408...|    0|\n",
      "|[3749.0,1.4138528...|    0|\n",
      "|[4462.0,-2.303349...|    1|\n",
      "|[6986.0,-4.397974...|    1|\n",
      "|[7526.0,0.0084303...|    1|\n",
      "|[7535.0,0.0267792...|    1|\n",
      "|[7543.0,0.3295943...|    1|\n",
      "|[7610.0,0.7256457...|    1|\n",
      "|[7672.0,0.7027099...|    1|\n",
      "|[7740.0,1.0238738...|    1|\n",
      "|[7891.0,-1.585505...|    1|\n",
      "|[8090.0,-1.783228...|    1|\n",
      "|[8169.0,0.8573210...|    1|\n",
      "+--------------------+-----+\n",
      "only showing top 20 rows\n",
      "\n",
      "+--------------------+-----+\n",
      "|            features|Class|\n",
      "+--------------------+-----+\n",
      "|[834.0,0.95624797...|    0|\n",
      "|[1418.0,-0.814336...|    0|\n",
      "|[2172.0,-0.799465...|    0|\n",
      "|[7519.0,1.2342350...|    1|\n",
      "|[7551.0,0.316459,...|    1|\n",
      "|[8878.0,-2.661802...|    1|\n",
      "|[11078.0,1.247386...|    0|\n",
      "|[11131.0,-1.42662...|    1|\n",
      "|[12095.0,-4.72771...|    1|\n",
      "|[12597.0,-2.58961...|    1|\n",
      "|[13126.0,-2.88004...|    1|\n",
      "|[13366.0,1.279743...|    0|\n",
      "|[17220.0,1.189784...|    1|\n",
      "|[17838.0,-5.18787...|    1|\n",
      "|[18088.0,-12.2240...|    1|\n",
      "|[18399.0,-14.4744...|    1|\n",
      "|[18690.0,-15.3988...|    1|\n",
      "|[20332.0,-15.2713...|    1|\n",
      "|[21054.0,1.185023...|    0|\n",
      "|[21662.0,-18.0185...|    1|\n",
      "+--------------------+-----+\n",
      "only showing top 20 rows\n",
      "\n"
     ]
    }
   ],
   "source": [
    "train_data.show()\n",
    "test_data.show()"
   ]
  },
  {
   "cell_type": "markdown",
   "metadata": {},
   "source": [
    "Now we can create a Linear Regression Model object. Because the feature column is named 'features', we don't have to worry about it. However, as the labelCol isn't the default name, we have to specify it's name (Yearly Amount Spent)."
   ]
  },
  {
   "cell_type": "code",
   "execution_count": 22,
   "metadata": {},
   "outputs": [],
   "source": [
    "lr = LinearRegression(labelCol=\"Class\")"
   ]
  },
  {
   "cell_type": "code",
   "execution_count": 23,
   "metadata": {},
   "outputs": [],
   "source": [
    "# Fit the model to the data.\n",
    "lrModel = lr.fit(train_data)"
   ]
  },
  {
   "cell_type": "code",
   "execution_count": 24,
   "metadata": {},
   "outputs": [
    {
     "name": "stdout",
     "output_type": "stream",
     "text": [
      "Coefficients: [-3.7701099941949353e-07,-0.02471338220092171,0.0012073644699758556,-0.006534378830713157,0.05306015417240854,0.010504402220235968,-0.019515275549974783,0.02557690512283267,-0.016381574075062535,0.014452093543413352,-0.024096399055767857,-0.007246818022490211,0.00827328153218933,-0.013318231729938878,-0.05656920525128712,-0.014872907588062702,0.005180593461493127,-0.0038881817961142046,0.018293533565858618,0.01052514823707217,-0.039329419243583096,0.0012669852704469047,0.04565410249125588,-0.011215062827843684,0.03437713759693678,-0.0028607694469831276,-0.07401713947937595,0.011205468531631435,0.1273984346221925,0.0001462745737649403] Intercept: 0.20325105182683417\n"
     ]
    }
   ],
   "source": [
    "# Print the coefficients and intercept for linear regression.\n",
    "print(\"Coefficients: {} Intercept: {}\".format(lrModel.coefficients, lrModel.intercept))"
   ]
  },
  {
   "cell_type": "code",
   "execution_count": 25,
   "metadata": {},
   "outputs": [],
   "source": [
    "test_results = lrModel.evaluate(test_data)"
   ]
  },
  {
   "cell_type": "code",
   "execution_count": 26,
   "metadata": {},
   "outputs": [
    {
     "name": "stdout",
     "output_type": "stream",
     "text": [
      "+--------------------+\n",
      "|           residuals|\n",
      "+--------------------+\n",
      "|-0.31072329264341086|\n",
      "|-0.20544283227905868|\n",
      "|-0.10201536500274666|\n",
      "| -0.2909994893283203|\n",
      "|-0.23848993038826682|\n",
      "| -0.6202318984709281|\n",
      "|-0.09525329942129801|\n",
      "| -0.1040756559156586|\n",
      "| 0.28149391650395605|\n",
      "|-0.03437429821413196|\n",
      "|-0.02086664233267649|\n",
      "|-0.39557373262028794|\n",
      "|-0.08715894396408691|\n",
      "|  0.5762509076535609|\n",
      "|-0.10319054560227726|\n",
      "| 0.03423091880725937|\n",
      "|-0.26999841076758024|\n",
      "|   0.142016792598461|\n",
      "| 0.15589739787536327|\n",
      "| 0.22210047223859042|\n",
      "+--------------------+\n",
      "only showing top 20 rows\n",
      "\n"
     ]
    }
   ],
   "source": [
    "test_results.residuals.show()"
   ]
  },
  {
   "cell_type": "code",
   "execution_count": 30,
   "metadata": {},
   "outputs": [
    {
     "name": "stdout",
     "output_type": "stream",
     "text": [
      "RSME: 0.28786647184360503\n",
      "R2: 0.6657204703552018\n"
     ]
    }
   ],
   "source": [
    "# Let's get some evaluation metrics (as discussed in the previous linear regression notebook).\n",
    "print(\"RSME: {}\".format(test_results.rootMeanSquaredError))\n",
    "print(\"R2: {}\".format(test_results.r2))"
   ]
  },
  {
   "cell_type": "markdown",
   "metadata": {},
   "source": [
    "Looking at RMSE and R2, we can see that the model is quite accurate. The RMSE shows that, on average, there's only a very tiny discrepancy between the actual and predicted results. Comparing this to the table below, the average amount spent (\\\\$499) and standard deviation (\\\\$79), a \\\\$10 error is surprisingly good.\n",
    "\n",
    "The R2 also shows that the model accounts for 100% of the variance in the data."
   ]
  },
  {
   "cell_type": "code",
   "execution_count": null,
   "metadata": {},
   "outputs": [],
   "source": []
  }
 ],
 "metadata": {
  "kernelspec": {
   "display_name": "Python 3",
   "language": "python",
   "name": "python3"
  },
  "language_info": {
   "codemirror_mode": {
    "name": "ipython",
    "version": 3
   },
   "file_extension": ".py",
   "mimetype": "text/x-python",
   "name": "python",
   "nbconvert_exporter": "python",
   "pygments_lexer": "ipython3",
   "version": "3.8.5"
  }
 },
 "nbformat": 4,
 "nbformat_minor": 4
}
